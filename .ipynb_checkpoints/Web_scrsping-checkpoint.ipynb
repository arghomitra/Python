{
 "cells": [
  {
   "cell_type": "code",
   "execution_count": null,
   "id": "165c03a1",
   "metadata": {},
   "outputs": [],
   "source": [
    "!pip install beautifulsoup4\t\n",
    "import requests\n",
    "from bs4  import BeautifulSoup\n",
    "url = \"https://en.wikipedia.org/wiki/Soup\"\n",
    "response = requests.get(url)\n",
    "soup = BeautifulSoup(response.text)\n",
    "#print(soup.prettify())\n"
   ]
  },
  {
   "cell_type": "code",
   "execution_count": 2,
   "id": "20f7dd47",
   "metadata": {},
   "outputs": [
    {
     "data": {
      "text/plain": [
       "'Soup - Wikipedia'"
      ]
     },
     "execution_count": 2,
     "metadata": {},
     "output_type": "execute_result"
    }
   ],
   "source": [
    "soup.title.get_text()"
   ]
  },
  {
   "cell_type": "code",
   "execution_count": 3,
   "id": "2473e571",
   "metadata": {},
   "outputs": [
    {
     "data": {
      "text/plain": [
       "216"
      ]
     },
     "execution_count": 3,
     "metadata": {},
     "output_type": "execute_result"
    }
   ],
   "source": [
    "soup.get_text().count(\"soup\")"
   ]
  },
  {
   "cell_type": "code",
   "execution_count": 4,
   "id": "9b2b95d4",
   "metadata": {},
   "outputs": [
    {
     "data": {
      "text/plain": [
       "'\\n\\n\\nSoup - Wikipedia\\n\\n\\n\\n\\n\\n\\n\\n\\n\\n\\n\\n\\n\\n\\n\\n\\n\\n\\n\\n\\n\\n\\n\\n\\n\\n\\n\\n\\n\\n\\n\\n\\n\\n\\n\\n\\nJump to content\\n\\n\\n\\n\\n\\n\\n\\n\\nMain menu\\n\\n\\n\\n\\n\\nMain menu\\nmove to sidebar\\nhide\\n\\n\\n\\n\\t\\tNavigation\\n\\t\\n\\nMain pageContentsCurrent eventsRandom articleAbout WikipediaContact usDonate\\n\\n\\n\\n\\n\\t\\tContribute\\n\\t\\n\\nHelpLearn to editCommunity portalRecent changesUpload file\\n\\n\\n\\n\\nLanguages\\n\\nLanguage links are at the top of the page across from the title.\\n\\n\\n\\n\\n\\n\\n\\n\\n\\n\\n\\n\\n\\n\\n\\n\\n\\n\\n\\nSearch\\n\\n\\n\\n\\n\\n\\n\\n\\n\\n\\n\\n\\n\\n\\n\\nCreate accountLog in\\n\\n\\n\\n\\n\\n\\nPersonal tools\\n\\n\\n\\n\\n Create account Log in\\n\\n\\n\\n\\n\\t\\tPag'"
      ]
     },
     "execution_count": 4,
     "metadata": {},
     "output_type": "execute_result"
    }
   ],
   "source": [
    "soup.get_text()[0:500]"
   ]
  },
  {
   "cell_type": "code",
   "execution_count": 5,
   "id": "0d108a1c",
   "metadata": {},
   "outputs": [],
   "source": [
    "url = 'https://en.wikipedia.org/wiki/Sea_Peoples'"
   ]
  },
  {
   "cell_type": "code",
   "execution_count": 6,
   "id": "d19b035e",
   "metadata": {},
   "outputs": [],
   "source": [
    "response = requests.get(url)\n",
    "text = response.text\n",
    "soup = BeautifulSoup(text)"
   ]
  },
  {
   "cell_type": "code",
   "execution_count": 7,
   "id": "ec514333",
   "metadata": {},
   "outputs": [
    {
     "name": "stdout",
     "output_type": "stream",
     "text": [
      "History of the concept\n",
      "Primary documentary records\n",
      "Ramesses II narrative\n",
      "Merneptah narrative\n",
      "Ramesses III narrative\n",
      "Onomasticon of Amenope\n",
      "Other documentary records\n",
      "Egyptian single-name sources\n",
      "Byblos\n",
      "Ugarit\n",
      "Hypotheses about origins\n",
      "Regional migration historical context\n",
      "Philistine hypothesis\n",
      "Minoan hypothesis\n",
      "Greek migrational hypothesis\n",
      "Trojan hypothesis\n",
      "Mycenaean warfare hypothesis\n",
      "Nuragic and Italian peoples hypotheses\n",
      "Anatolian famine hypothesis\n",
      "Invader hypothesis\n",
      "See also\n",
      "References\n",
      "Citations\n",
      "Notes\n",
      "Sources\n",
      "Primary sources: Early publications of the theory\n",
      "Secondary sources\n",
      "External links\n"
     ]
    }
   ],
   "source": [
    "for match in soup.find_all('span',{'class': 'mw-headline'}):\n",
    "    print(match.get_text())"
   ]
  },
  {
   "cell_type": "code",
   "execution_count": null,
   "id": "72cf4c05",
   "metadata": {},
   "outputs": [],
   "source": [
    "for i in soup.find_all('a'):\n",
    "    #print(i.get('href'))"
   ]
  },
  {
   "cell_type": "code",
   "execution_count": 15,
   "id": "20a05fc2",
   "metadata": {},
   "outputs": [
    {
     "name": "stdout",
     "output_type": "stream",
     "text": [
      "1560\n"
     ]
    }
   ],
   "source": [
    "links = []\n",
    "for i in soup.find_all('a'):\n",
    "    links.append(i.get('href'))\n",
    "    \n",
    "print(len(links))"
   ]
  },
  {
   "cell_type": "code",
   "execution_count": 40,
   "id": "de10d9a5",
   "metadata": {},
   "outputs": [
    {
     "name": "stdout",
     "output_type": "stream",
     "text": [
      "Seevolke – Afrikaans\n",
      "Seevölker – Swiss German\n",
      "شعوب البحر – Arabic\n",
      "Pueblos d'a Mar – Aragonese\n",
      "Dəniz xalqları – Azerbaijani\n",
      "Народы мора – Belarusian\n",
      "Народы мора – Belarusian (Taraškievica orthography)\n",
      "Морски народи – Bulgarian\n",
      "Pobloù ar mor – Breton\n",
      "Pobles de la mar – Catalan\n",
      "Mořské národy – Czech\n",
      "Havfolkene – Danish\n",
      "Seevölker – German\n",
      "Λαοί της Θάλασσας – Greek\n",
      "Pueblos del mar – Spanish\n",
      "Maraj popoloj – Esperanto\n",
      "Itsasoko herriak – Basque\n",
      "مردمان دریا – Persian\n",
      "Peuples de la mer – French\n",
      "Pobos do Mar – Galician\n",
      "바다 민족 – Korean\n",
      "Bangsa Laut (purba) – Indonesian\n",
      "Sæþjóðirnar – Icelandic\n",
      "Popoli del Mare – Italian\n",
      "גויי הים – Hebrew\n",
      "ზღვის ხალხები – Georgian\n",
      "Gentes Maritimae – Latin\n",
      "Poplas de la mar – Lingua Franca Nova\n",
      "Tengeri népek – Hungarian\n",
      "Vahoakan' ny Ranomasina – Malagasy\n",
      "شعوب البحر – Egyptian Arabic\n",
      "Zeevolken – Dutch\n",
      "海の民 – Japanese\n",
      "Havfolkene – Norwegian Bokmål\n",
      "Pòbles de la Mar – Occitan\n",
      "Dengiz xalqlari – Uzbek\n",
      "Ludy Morza – Polish\n",
      "Povos do Mar – Portuguese\n",
      "Popoarele mării – Romanian\n",
      "Народы моря – Russian\n",
      "Sea Peoples – Simple English\n",
      "Morské národy – Slovak\n",
      "Ljudstva z morja – Slovenian\n",
      "Народи са мора – Serbian\n",
      "Narodi sa mora – Serbo-Croatian\n",
      "Merikansat – Finnish\n",
      "Sjöfolken – Swedish\n",
      "Mga Taong Dagat – Tagalog\n",
      "ชาวทะเล – Thai\n",
      "Deniz Kavimleri – Turkish\n",
      "Народи моря – Ukrainian\n",
      "Dân tộc biển – Vietnamese\n",
      "海上民族 – Chinese\n"
     ]
    }
   ],
   "source": [
    "url = 'https://en.wikipedia.org/wiki/Sea_Peoples'\n",
    "r = requests.get(url)\n",
    "sea_people = BeautifulSoup(r.text)\n",
    "\n",
    "a_tags = sea_people.find_all('a',{ \"class\" : \"interlanguage-link-target\" }) #class=\"interlanguage-link interwiki-de mw-list-item\"\n",
    "\n",
    "for a in a_tags:\n",
    "    print(a.get('title'))"
   ]
  },
  {
   "cell_type": "code",
   "execution_count": null,
   "id": "16a964ef",
   "metadata": {},
   "outputs": [],
   "source": [
    "for i in soup.find_all('img'):\n",
    "    #print(i.get('src'))"
   ]
  },
  {
   "cell_type": "code",
   "execution_count": null,
   "id": "aa1a193f",
   "metadata": {},
   "outputs": [],
   "source": [
    "url = input(\"enter url\")\n",
    "response = requests.get(url)\n",
    "text = response.text\n",
    "soup = BeautifulSoup(text)\n",
    "\n",
    "url = []\n",
    "for name in filename:\n",
    "    if name[0:2] == \"//\":\n",
    "        url.append('https:'+name)\n",
    "    else:\n",
    "        url.append('https://wikipedia.org'+name)\n",
    "image_data = requests.get(url[0].content)\n",
    "\n",
    "\n",
    "filename"
   ]
  },
  {
   "cell_type": "code",
   "execution_count": null,
   "id": "709e4b51",
   "metadata": {},
   "outputs": [],
   "source": []
  },
  {
   "cell_type": "code",
   "execution_count": null,
   "id": "dfea4f77",
   "metadata": {},
   "outputs": [],
   "source": []
  }
 ],
 "metadata": {
  "kernelspec": {
   "display_name": "Python 3 (ipykernel)",
   "language": "python",
   "name": "python3"
  },
  "language_info": {
   "codemirror_mode": {
    "name": "ipython",
    "version": 3
   },
   "file_extension": ".py",
   "mimetype": "text/x-python",
   "name": "python",
   "nbconvert_exporter": "python",
   "pygments_lexer": "ipython3",
   "version": "3.9.13"
  }
 },
 "nbformat": 4,
 "nbformat_minor": 5
}
