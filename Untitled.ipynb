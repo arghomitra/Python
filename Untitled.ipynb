{
 "cells": [
  {
   "cell_type": "code",
   "execution_count": 1,
   "id": "77f767fc",
   "metadata": {},
   "outputs": [
    {
     "name": "stdout",
     "output_type": "stream",
     "text": [
      "['Amsterdam', 'Tokyo', 'London', 'Cape Town']\n",
      "Amsterdam\n",
      "['Amsterdam', 'Tokyo', 'London', 'Cape Town', 'Paris']\n",
      "['Tokyo', 'London']\n",
      "['Paris', 'Cape Town', 'London', 'Tokyo', 'Amsterdam']\n",
      "['Paris', 'Cape Town', 'London', 'Tokyo', 'Amsterdam', 'Cape Town']\n",
      "2\n",
      "['Paris', 'London', 'Tokyo', 'Amsterdam', 'Cape Town']\n",
      "5\n",
      "['100', 'Paris', 'London', 'Tokyo', 'Amsterdam', 'Cape Town']\n",
      "['Washington', 'Paris', 'London', 'Tokyo', 'Amsterdam', 'Cape Town']\n"
     ]
    }
   ],
   "source": [
    "capitals = [\"Amsterdam\", \"Tokyo\", \"London\", \"Cape Town\"]\n",
    "\n",
    "#Print the full list\n",
    "print(capitals)\n",
    "\n",
    "#Print the first item of the list.\n",
    "print(capitals[0])\n",
    "\n",
    "#Add “Paris” to the end of the list and print the updated list.\n",
    "capitals.append(\"Paris\")\n",
    "\n",
    "print(capitals)\n",
    "#Print a range of indexes 1 to 3 of the list (note that index 1 is included, but index 3 is excluded in the returned list).\n",
    "print(capitals[1:3])\n",
    "#Reverse the items of the list and subsequently print the updated list.\n",
    "capitals.reverse()\n",
    "print(capitals)\n",
    "\n",
    "#Add “Cape Town” to the end of the list and print the updated list.\n",
    "capitals.append(\"Cape Town\")\n",
    "print(capitals)\n",
    "\n",
    "#Count the number of times “Cape Town” is in the list and print the result.\n",
    "print(capitals.count(\"Cape Town\"))\n",
    "\n",
    "\n",
    "#Remove the first occurence of “Cape Town” from the list.\n",
    "capitals.remove(\"Cape Town\")\n",
    "print(capitals)\n",
    "\n",
    "#Print the length (i.e. number of items) of the list.\n",
    "print(len(capitals))\n",
    "\n",
    "#Add the number 100 to the front of the list (i.e. index 0) and print the list.\n",
    "capitals.insert(0,\"100\")\n",
    "print(capitals)\n",
    "\n",
    "#Update the value of the first item (current value 100) to “Washington” and print the list.\n",
    "capitals.pop(0)\n",
    "capitals.insert(0,\"Washington\")\n",
    "print(capitals)\n",
    "\n",
    "\n"
   ]
  },
  {
   "cell_type": "code",
   "execution_count": 24,
   "id": "a76dfa62",
   "metadata": {},
   "outputs": [
    {
     "name": "stdout",
     "output_type": "stream",
     "text": [
      "6.5\n"
     ]
    }
   ],
   "source": [
    "num = \"13\"\n",
    "x =num.isnumeric()\n",
    "# print(x)\n",
    "if x :\n",
    "    if()\n",
    "    print(int(num)/2)\n",
    "    \n",
    "\n",
    "    \n",
    "\n",
    "    \n"
   ]
  },
  {
   "cell_type": "markdown",
   "id": "a7422322",
   "metadata": {},
   "source": [
    "# def Function"
   ]
  },
  {
   "cell_type": "code",
   "execution_count": 6,
   "id": "1d34b222",
   "metadata": {},
   "outputs": [
    {
     "name": "stdout",
     "output_type": "stream",
     "text": [
      "name\n"
     ]
    }
   ],
   "source": [
    "def name():\n",
    "    print(\"name\")\n",
    "name()"
   ]
  },
  {
   "cell_type": "code",
   "execution_count": 8,
   "id": "67ebe2b5",
   "metadata": {},
   "outputs": [
    {
     "name": "stdout",
     "output_type": "stream",
     "text": [
      "input: sadman\n",
      "input: argho\n"
     ]
    }
   ],
   "source": [
    "def name(input):\n",
    "    print(\"input: \"+input)\n",
    "    \n",
    "name(\"sadman\")\n",
    "name(\"argho\")"
   ]
  },
  {
   "cell_type": "code",
   "execution_count": 9,
   "id": "efab07e3",
   "metadata": {},
   "outputs": [
    {
     "name": "stdout",
     "output_type": "stream",
     "text": [
      "sadman   MD\n",
      "Argho   Mitra\n"
     ]
    }
   ],
   "source": [
    "def fullName(fName,lName):\n",
    "    print(fName,\" \",lName)\n",
    "fullName(\"sadman\",\"MD\")\n",
    "fullName(\"Argho\",\"Mitra\")"
   ]
  },
  {
   "cell_type": "code",
   "execution_count": 10,
   "id": "b4742012",
   "metadata": {},
   "outputs": [
    {
     "name": "stdout",
     "output_type": "stream",
     "text": [
      "The youngest child is Linus\n"
     ]
    }
   ],
   "source": [
    "def my_function(*kids):\n",
    "  print(\"The youngest child is \" + kids[2])\n",
    "\n",
    "my_function(\"Emil\", \"Tobias\", \"Linus\")"
   ]
  },
  {
   "cell_type": "code",
   "execution_count": 15,
   "id": "a492b91f",
   "metadata": {},
   "outputs": [
    {
     "name": "stdout",
     "output_type": "stream",
     "text": [
      "(1, 2, 3, 4)\n",
      "2\n"
     ]
    }
   ],
   "source": [
    "def numbers(*num):\n",
    "    print(num)\n",
    "    print(num[1])\n",
    "numbers(1,2,3,4)"
   ]
  },
  {
   "cell_type": "code",
   "execution_count": 16,
   "id": "a4d95972",
   "metadata": {},
   "outputs": [
    {
     "name": "stdout",
     "output_type": "stream",
     "text": [
      "I am from Sweden\n",
      "I am from India\n",
      "I am from Norway\n",
      "I am from Brazil\n"
     ]
    }
   ],
   "source": [
    "def my_function(country = \"Norway\"):\n",
    "  print(\"I am from \" + country)\n",
    "\n",
    "my_function(\"Sweden\")\n",
    "my_function(\"India\")\n",
    "my_function()\n",
    "my_function(\"Brazil\")"
   ]
  },
  {
   "cell_type": "code",
   "execution_count": 19,
   "id": "3fd27309",
   "metadata": {},
   "outputs": [
    {
     "name": "stdout",
     "output_type": "stream",
     "text": [
      "🍎\n",
      "🍌\n",
      "🍇\n",
      "🍉\n",
      "🍓\n"
     ]
    }
   ],
   "source": [
    "fruits = [\"🍎\",\"🍌\",\"🍇\",\"🍉\",\"🍓\"]\n",
    "def function(food):\n",
    "    for x in food:\n",
    "        print(x)\n",
    "        \n",
    "\n",
    "        \n",
    "function(fruits)"
   ]
  },
  {
   "cell_type": "code",
   "execution_count": null,
   "id": "7685ede0",
   "metadata": {},
   "outputs": [],
   "source": []
  },
  {
   "cell_type": "code",
   "execution_count": 22,
   "id": "501eda13",
   "metadata": {},
   "outputs": [
    {
     "name": "stdout",
     "output_type": "stream",
     "text": [
      "25\n",
      "30\n",
      "20\n",
      "35\n",
      "15\n"
     ]
    }
   ],
   "source": [
    "def function(x):\n",
    "    print(5*x)\n",
    "    \n",
    "function(5)\n",
    "function(6)\n",
    "function(4)\n",
    "function(7)\n",
    "function(3)"
   ]
  },
  {
   "cell_type": "markdown",
   "id": "8dc0487b",
   "metadata": {},
   "source": [
    "# pass statement"
   ]
  },
  {
   "cell_type": "code",
   "execution_count": 27,
   "id": "2f99679c",
   "metadata": {},
   "outputs": [],
   "source": [
    "def myfunction():\n",
    "  passbb"
   ]
  },
  {
   "cell_type": "markdown",
   "id": "00f68945",
   "metadata": {},
   "source": [
    "## Recursion"
   ]
  },
  {
   "cell_type": "code",
   "execution_count": 29,
   "id": "0a7f12df",
   "metadata": {},
   "outputs": [
    {
     "name": "stdout",
     "output_type": "stream",
     "text": [
      "\n",
      "\n",
      "Recursion Example Results\n",
      "1\n",
      "3\n",
      "6\n",
      "10\n",
      "15\n",
      "21\n"
     ]
    },
    {
     "data": {
      "text/plain": [
       "21"
      ]
     },
     "execution_count": 29,
     "metadata": {},
     "output_type": "execute_result"
    }
   ],
   "source": [
    "def tri_recursion(k):\n",
    "  if(k > 0):\n",
    "    result = k + tri_recursion(k - 1)\n",
    "    print(result)\n",
    "  else:\n",
    "    result = 0\n",
    "  return result\n",
    "\n",
    "print(\"\\n\\nRecursion Example Results\")\n",
    "tri_recursion(6)\n"
   ]
  },
  {
   "cell_type": "code",
   "execution_count": 33,
   "id": "59460bcf",
   "metadata": {},
   "outputs": [
    {
     "name": "stdout",
     "output_type": "stream",
     "text": [
      "['United States', 'Brazil', 'Germany', 'Spain', 'The Netherlands', 'Australia', 'Japan', 'Egypt', 'South-Africa', 'South-Korea', 'China', 'Mexico', 'Sweden', 'Canada']\n"
     ]
    }
   ],
   "source": [
    "nationalities = [\n",
    "\t\t\"United States\",\n",
    "\t\t\"Brazil\",\n",
    "\t\t\"Germany\",\n",
    "\t\t\"Spain\",\n",
    "\t\t\"The Netherlands\",\n",
    "\t\t\"United States\",\n",
    "\t\t\"United States\",\n",
    "\t\t\"Australia\",\n",
    "\t\t\"Japan\",\n",
    "\t\t\"Egypt\",\n",
    "\t\t\"South-Africa\",\n",
    "\t\t\"South-Korea\",\n",
    "\t\t\"China\",\n",
    "\t\t\"Japan\",\n",
    "\t\t\"Mexico\",\n",
    "\t\t\"Germany\",\n",
    "\t\t\"Sweden\",\n",
    "\t\t\"The Netherlands\",\n",
    "\t\t\"Canada\"\n",
    "]\n",
    "store = []\n",
    "\n",
    "def unique(list):\n",
    "    for item in list:\n",
    "        if item not in store:\n",
    "            store.append(item)\n",
    "            \n",
    "unique(nationalities)\n",
    "print(store)"
   ]
  },
  {
   "cell_type": "code",
   "execution_count": null,
   "id": "b8614548",
   "metadata": {},
   "outputs": [],
   "source": []
  },
  {
   "cell_type": "code",
   "execution_count": null,
   "id": "e89ece9c",
   "metadata": {},
   "outputs": [],
   "source": []
  },
  {
   "cell_type": "code",
   "execution_count": 24,
   "id": "e532a62c",
   "metadata": {},
   "outputs": [
    {
     "name": "stdout",
     "output_type": "stream",
     "text": [
      "5.5\n",
      "2.8722813232690143\n"
     ]
    }
   ],
   "source": [
    "import math\n",
    "numbers = [1,2,3,4,5,6,7,8,9,10]\n",
    "\n",
    "avarage=sum(numbers)/len(numbers)\n",
    "print(avarage)\n",
    "store = 0\n",
    "for i in numbers:\n",
    "    j = (i-avarage)*(i-avarage)\n",
    "    store += float(j)\n",
    "last = store / len(numbers)\n",
    "\n",
    "print(math.sqrt(last))"
   ]
  },
  {
   "cell_type": "code",
   "execution_count": 26,
   "id": "49d12b22",
   "metadata": {},
   "outputs": [
    {
     "name": "stdout",
     "output_type": "stream",
     "text": [
      "input: 1\n",
      "input: 4\n",
      "input: 5\n",
      "input: stop\n",
      "done!\n",
      "['1', '4', '5']\n",
      "min:  1\n",
      "max:  5\n",
      "avg:  3.3333333333333335\n"
     ]
    },
    {
     "ename": "TypeError",
     "evalue": "object of type 'float' has no len()",
     "output_type": "error",
     "traceback": [
      "\u001b[1;31m---------------------------------------------------------------------------\u001b[0m",
      "\u001b[1;31mTypeError\u001b[0m                                 Traceback (most recent call last)",
      "\u001b[1;32m~\\AppData\\Local\\Temp\\ipykernel_6392\\2811736883.py\u001b[0m in \u001b[0;36m<module>\u001b[1;34m\u001b[0m\n\u001b[0;32m     31\u001b[0m     \u001b[0mj\u001b[0m \u001b[1;33m=\u001b[0m \u001b[1;33m(\u001b[0m\u001b[0mi\u001b[0m\u001b[1;33m-\u001b[0m\u001b[0mavarage\u001b[0m\u001b[1;33m)\u001b[0m\u001b[1;33m*\u001b[0m\u001b[1;33m(\u001b[0m\u001b[0mi\u001b[0m\u001b[1;33m-\u001b[0m\u001b[0mavarage\u001b[0m\u001b[1;33m)\u001b[0m\u001b[1;33m\u001b[0m\u001b[1;33m\u001b[0m\u001b[0m\n\u001b[0;32m     32\u001b[0m     \u001b[0mstore\u001b[0m \u001b[1;33m+=\u001b[0m \u001b[0mj\u001b[0m\u001b[1;33m\u001b[0m\u001b[1;33m\u001b[0m\u001b[0m\n\u001b[1;32m---> 33\u001b[1;33m \u001b[0mdivision\u001b[0m \u001b[1;33m=\u001b[0m \u001b[0mstore\u001b[0m \u001b[1;33m/\u001b[0m \u001b[0mlen\u001b[0m\u001b[1;33m(\u001b[0m\u001b[0mstore\u001b[0m\u001b[1;33m)\u001b[0m\u001b[1;33m\u001b[0m\u001b[1;33m\u001b[0m\u001b[0m\n\u001b[0m\u001b[0;32m     34\u001b[0m \u001b[1;33m\u001b[0m\u001b[0m\n\u001b[0;32m     35\u001b[0m \u001b[0mprint\u001b[0m\u001b[1;33m(\u001b[0m\u001b[1;34m\"SD: \"\u001b[0m\u001b[1;33m,\u001b[0m\u001b[0mmath\u001b[0m\u001b[1;33m.\u001b[0m\u001b[0msqrt\u001b[0m\u001b[1;33m(\u001b[0m\u001b[0mdivision\u001b[0m\u001b[1;33m)\u001b[0m\u001b[1;33m)\u001b[0m\u001b[1;33m\u001b[0m\u001b[1;33m\u001b[0m\u001b[0m\n",
      "\u001b[1;31mTypeError\u001b[0m: object of type 'float' has no len()"
     ]
    }
   ],
   "source": [
    "store = []\n",
    "\n",
    "num = input(\"input: \")\n",
    "store.append(num)\n",
    "while num !=\"stop\":\n",
    "  num = input(\"input: \")\n",
    "  if num ==\"stop\":\n",
    "    print(\"done!\")\n",
    "    break\n",
    "  \n",
    "  \n",
    "  if num.isnumeric():\n",
    "    store.append(num)\n",
    "    \n",
    "  \n",
    "  \n",
    "print(store)\n",
    "print(\"min: \",min(store))\n",
    "print(\"max: \", max(store))\n",
    "int_array = [int(x) for x in store]\n",
    "avg = sum(int_array)/len(int_array)\n",
    "print(\"avg: \", avg)\n",
    "\n",
    "import math\n",
    "# numbers = [1,2,3,4,5,6,7,8,9,10]\n",
    "\n",
    "avarage=sum(int_array)/len(int_array)\n",
    "\n",
    "store = 0\n",
    "for i in int_array:\n",
    "    j = (i-avarage)*(i-avarage)\n",
    "    store += j\n",
    "division = store / len(store)\n",
    "\n",
    "print(\"SD: \",math.sqrt(division))\n"
   ]
  },
  {
   "cell_type": "code",
   "execution_count": 22,
   "id": "0192ccbf",
   "metadata": {},
   "outputs": [
    {
     "name": "stdout",
     "output_type": "stream",
     "text": [
      "2.0\n"
     ]
    },
    {
     "ename": "AttributeError",
     "evalue": "module 'math' has no attribute 'sqr'",
     "output_type": "error",
     "traceback": [
      "\u001b[1;31m---------------------------------------------------------------------------\u001b[0m",
      "\u001b[1;31mAttributeError\u001b[0m                            Traceback (most recent call last)",
      "\u001b[1;32m~\\AppData\\Local\\Temp\\ipykernel_6392\\1987130200.py\u001b[0m in \u001b[0;36m<module>\u001b[1;34m\u001b[0m\n\u001b[0;32m      1\u001b[0m \u001b[1;32mimport\u001b[0m \u001b[0mmath\u001b[0m\u001b[1;33m\u001b[0m\u001b[1;33m\u001b[0m\u001b[0m\n\u001b[0;32m      2\u001b[0m \u001b[0mprint\u001b[0m\u001b[1;33m(\u001b[0m\u001b[0mmath\u001b[0m\u001b[1;33m.\u001b[0m\u001b[0msqrt\u001b[0m\u001b[1;33m(\u001b[0m\u001b[1;36m4\u001b[0m\u001b[1;33m)\u001b[0m\u001b[1;33m)\u001b[0m\u001b[1;33m\u001b[0m\u001b[1;33m\u001b[0m\u001b[0m\n\u001b[1;32m----> 3\u001b[1;33m \u001b[0mprint\u001b[0m\u001b[1;33m(\u001b[0m\u001b[0mmath\u001b[0m\u001b[1;33m.\u001b[0m\u001b[0msqr\u001b[0m\u001b[1;33m(\u001b[0m\u001b[1;36m4\u001b[0m\u001b[1;33m)\u001b[0m\u001b[1;33m)\u001b[0m\u001b[1;33m\u001b[0m\u001b[1;33m\u001b[0m\u001b[0m\n\u001b[0m",
      "\u001b[1;31mAttributeError\u001b[0m: module 'math' has no attribute 'sqr'"
     ]
    }
   ],
   "source": [
    "import math\n",
    "print(math.sqrt(4))\n",
    "print(math.sqr(4))"
   ]
  },
  {
   "cell_type": "code",
   "execution_count": 42,
   "id": "b2dc6d92",
   "metadata": {},
   "outputs": [
    {
     "ename": "SyntaxError",
     "evalue": "invalid syntax (3121699795.py, line 9)",
     "output_type": "error",
     "traceback": [
      "\u001b[1;36m  File \u001b[1;32m\"C:\\Users\\margh\\AppData\\Local\\Temp\\ipykernel_6392\\3121699795.py\"\u001b[1;36m, line \u001b[1;32m9\u001b[0m\n\u001b[1;33m    int z=function(inner)\u001b[0m\n\u001b[1;37m        ^\u001b[0m\n\u001b[1;31mSyntaxError\u001b[0m\u001b[1;31m:\u001b[0m invalid syntax\n"
     ]
    }
   ],
   "source": [
    "\n",
    "def function(inner):\n",
    "    sum = 1 + inner\n",
    "    return sum\n",
    "\n",
    "function(5)\n",
    "\n",
    "\n",
    "def newFunction(x,y):\n",
    "    int z=function(inner)\n",
    "    total = x+y+z\n",
    "    print(total)\n",
    " \n",
    "newFunction(5,10)\n"
   ]
  },
  {
   "cell_type": "code",
   "execution_count": 44,
   "id": "e21b954d",
   "metadata": {},
   "outputs": [
    {
     "name": "stdout",
     "output_type": "stream",
     "text": [
      "16.0\n"
     ]
    }
   ],
   "source": [
    "def calculate_total_cost(price, tax_rate):\n",
    "    tax = price * tax_rate\n",
    "    total_cost = price + tax\n",
    "    return total_cost\n",
    "\n",
    "def print_total_cost(item_name, price, tax_rate):\n",
    "    total_cost = calculate_total_cost(price, tax_rate)\n",
    "    print(total_cost+5)\n",
    "\n",
    "print_total_cost(\"widget\", 10, 0.1)\n"
   ]
  }
 ],
 "metadata": {
  "kernelspec": {
   "display_name": "Python 3 (ipykernel)",
   "language": "python",
   "name": "python3"
  },
  "language_info": {
   "codemirror_mode": {
    "name": "ipython",
    "version": 3
   },
   "file_extension": ".py",
   "mimetype": "text/x-python",
   "name": "python",
   "nbconvert_exporter": "python",
   "pygments_lexer": "ipython3",
   "version": "3.9.13"
  }
 },
 "nbformat": 4,
 "nbformat_minor": 5
}
