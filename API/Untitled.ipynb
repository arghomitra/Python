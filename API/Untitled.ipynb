{
 "cells": [
  {
   "cell_type": "code",
   "execution_count": 1,
   "id": "22322a04",
   "metadata": {},
   "outputs": [],
   "source": [
    "import json"
   ]
  },
  {
   "cell_type": "code",
   "execution_count": 2,
   "id": "d2042367",
   "metadata": {},
   "outputs": [
    {
     "ename": "SyntaxError",
     "evalue": "EOL while scanning string literal (2789982008.py, line 1)",
     "output_type": "error",
     "traceback": [
      "\u001b[1;36m  File \u001b[1;32m\"C:\\Users\\margh\\AppData\\Local\\Temp\\ipykernel_14124\\2789982008.py\"\u001b[1;36m, line \u001b[1;32m1\u001b[0m\n\u001b[1;33m    json_string = '{\u001b[0m\n\u001b[1;37m                    ^\u001b[0m\n\u001b[1;31mSyntaxError\u001b[0m\u001b[1;31m:\u001b[0m EOL while scanning string literal\n"
     ]
    }
   ],
   "source": [
    "json_string = '{\n",
    "\"name\" :\"Jason Statham\",\n",
    "\"age\": 54\n",
    "\n",
    "}'\n",
    "print(json_string)\n",
    "json_dict = json.loads(json_string)\n",
    "json_dict[\"name\"]"
   ]
  },
  {
   "cell_type": "code",
   "execution_count": 19,
   "id": "1d3a8f7b",
   "metadata": {},
   "outputs": [
    {
     "ename": "FileNotFoundError",
     "evalue": "[Errno 2] No such file or directory: 'jason.jason'",
     "output_type": "error",
     "traceback": [
      "\u001b[1;31m---------------------------------------------------------------------------\u001b[0m",
      "\u001b[1;31mFileNotFoundError\u001b[0m                         Traceback (most recent call last)",
      "\u001b[1;32m~\\AppData\\Local\\Temp\\ipykernel_14124\\1631468261.py\u001b[0m in \u001b[0;36m<module>\u001b[1;34m\u001b[0m\n\u001b[1;32m----> 1\u001b[1;33m \u001b[0mjason_file\u001b[0m \u001b[1;33m=\u001b[0m \u001b[0mopen\u001b[0m\u001b[1;33m(\u001b[0m\u001b[1;34m\"jason.jason\"\u001b[0m\u001b[1;33m)\u001b[0m\u001b[1;33m\u001b[0m\u001b[1;33m\u001b[0m\u001b[0m\n\u001b[0m\u001b[0;32m      2\u001b[0m \u001b[0mjason_dict\u001b[0m \u001b[1;33m=\u001b[0m \u001b[0mjson\u001b[0m\u001b[1;33m.\u001b[0m\u001b[0mload\u001b[0m\u001b[1;33m(\u001b[0m\u001b[0mjason_file\u001b[0m\u001b[1;33m.\u001b[0m\u001b[0mread\u001b[0m\u001b[1;33m(\u001b[0m\u001b[1;33m)\u001b[0m\u001b[1;33m)\u001b[0m\u001b[1;33m\u001b[0m\u001b[1;33m\u001b[0m\u001b[0m\n\u001b[0;32m      3\u001b[0m \u001b[1;33m\u001b[0m\u001b[0m\n\u001b[0;32m      4\u001b[0m \u001b[0mjason_file\u001b[0m\u001b[1;33m.\u001b[0m\u001b[0mclose\u001b[0m\u001b[1;33m(\u001b[0m\u001b[1;33m)\u001b[0m\u001b[1;33m\u001b[0m\u001b[1;33m\u001b[0m\u001b[0m\n\u001b[0;32m      5\u001b[0m \u001b[0mjason_dict\u001b[0m\u001b[1;33m[\u001b[0m\u001b[1;34m\"people\"\u001b[0m\u001b[1;33m]\u001b[0m\u001b[1;33m\u001b[0m\u001b[1;33m\u001b[0m\u001b[0m\n",
      "\u001b[1;31mFileNotFoundError\u001b[0m: [Errno 2] No such file or directory: 'jason.jason'"
     ]
    }
   ],
   "source": [
    "jason_file = open(\"jason.jason\")\n",
    "jason_dict = json.load(jason_file.read())\n",
    "\n",
    "jason_file.close()\n",
    "jason_dict[\"people\"]"
   ]
  },
  {
   "cell_type": "code",
   "execution_count": null,
   "id": "6d8e8541",
   "metadata": {},
   "outputs": [],
   "source": []
  },
  {
   "cell_type": "code",
   "execution_count": null,
   "id": "b6b1a6ce",
   "metadata": {},
   "outputs": [],
   "source": []
  },
  {
   "cell_type": "code",
   "execution_count": null,
   "id": "4af8543e",
   "metadata": {},
   "outputs": [],
   "source": []
  },
  {
   "cell_type": "code",
   "execution_count": 20,
   "id": "23a9825b",
   "metadata": {},
   "outputs": [
    {
     "name": "stdout",
     "output_type": "stream",
     "text": [
      "54\n"
     ]
    }
   ],
   "source": [
    "import json\n",
    "\n",
    "#string JSON example\n",
    "json_data =  '{ \"name\":\"Jason Statham\", \"age\":54, \"city\":\"Chesterfield\"}'\n",
    "y = json.loads(json_data)\n",
    "print(y[\"age\"]) # result is dictionary!"
   ]
  },
  {
   "cell_type": "code",
   "execution_count": 21,
   "id": "ff495260",
   "metadata": {},
   "outputs": [
    {
     "name": "stdout",
     "output_type": "stream",
     "text": [
      "200\n",
      "{'Date': 'Wed, 29 Mar 2023 13:25:01 GMT', 'Content-Type': 'application/json', 'Content-Length': '24', 'Connection': 'keep-alive', 'Access-Control-Allow-Origin': '*', 'Access-Control-Allow-Headers': 'Content-Type', 'Access-Control-Allow-Methods': 'GET', 'Report-To': '{\"endpoints\":[{\"url\":\"https:\\\\/\\\\/a.nel.cloudflare.com\\\\/report\\\\/v3?s=NBbOWAH28nNQ%2FiRBKYWLA4v1azEsGYIvdmDydGdwyvWS1ruQXgDOnUbCCTu3EMsNfg%2BOOiImTzbGYTzjHfoBHMRBBGtrMHmhnk17LR3%2FgZ3yxpogSizCP5SDdrDkJ1FGtA%3D%3D\"}],\"group\":\"cf-nel\",\"max_age\":604800}', 'NEL': '{\"success_fraction\":0,\"report_to\":\"cf-nel\",\"max_age\":604800}', 'Vary': 'Accept-Encoding', 'Server': 'cloudflare', 'CF-RAY': '7af86fbb58acf955-BRU', 'alt-svc': 'h3=\":443\"; ma=86400, h3-29=\":443\"; ma=86400'}\n",
      "{\"quote\":\"Decentralize\"}\n",
      "<bound method Response.json of <Response [200]>>\n",
      "Decentralize\n"
     ]
    }
   ],
   "source": [
    "import requests\n",
    "import json\n",
    "\n",
    "response = requests.get(\"https://api.kanye.rest/\")\n",
    "print(response.status_code)\n",
    "print(response.headers)\n",
    "print(response.text)\n",
    "print(response.json)\n",
    "\n",
    "json_data = json.loads(response.text)\n",
    "print(json_data[\"quote\"])"
   ]
  },
  {
   "cell_type": "code",
   "execution_count": 22,
   "id": "ab2e955c",
   "metadata": {},
   "outputs": [
    {
     "name": "stdout",
     "output_type": "stream",
     "text": [
      "HTTPSConnectionPool(host='api.kanyee.rest', port=443): Max retries exceeded with url: / (Caused by NewConnectionError('<urllib3.connection.HTTPSConnection object at 0x000002A0B165FB80>: Failed to establish a new connection: [Errno 11001] getaddrinfo failed'))\n"
     ]
    }
   ],
   "source": [
    "import requests\n",
    "import json\n",
    "\n",
    "try:\n",
    "    r = requests.get(\"https://api.kanyee.rest/\")\n",
    "except Exception as e: \n",
    "    print(e)"
   ]
  },
  {
   "cell_type": "code",
   "execution_count": 28,
   "id": "459003e9",
   "metadata": {},
   "outputs": [],
   "source": [
    "import json\n",
    "import requests\n",
    "url = 'https://love-calculator.p.rapidapi.com/getPercentage'\n",
    "query = {\n",
    "    \"fname\" : \"Alice\",\n",
    "    \"sname\" : \"John\"\n",
    "}\n",
    "headers: {\n",
    "    'X-RapidAPI-Key': 'ae7fcf262emshc009e7fab12649ap148aabjsndf480cb51087',\n",
    "    'X-RapidAPI-Host': 'love-calculator.p.rapidapi.com'\n",
    "  }"
   ]
  },
  {
   "cell_type": "code",
   "execution_count": 26,
   "id": "ddd83737",
   "metadata": {},
   "outputs": [
    {
     "ename": "SyntaxError",
     "evalue": "invalid syntax (207105833.py, line 4)",
     "output_type": "error",
     "traceback": [
      "\u001b[1;36m  File \u001b[1;32m\"C:\\Users\\margh\\AppData\\Local\\Temp\\ipykernel_14124\\207105833.py\"\u001b[1;36m, line \u001b[1;32m4\u001b[0m\n\u001b[1;33m    if response.status_code == 200\u001b[0m\n\u001b[1;37m                                  ^\u001b[0m\n\u001b[1;31mSyntaxError\u001b[0m\u001b[1;31m:\u001b[0m invalid syntax\n"
     ]
    }
   ],
   "source": [
    "try:\n",
    "    response = requests.get(url,\n",
    "                            headers = headers,\n",
    "                           params = query)\n",
    "    if response.status_code == 200\n",
    "        love_result = json.loads(response.text)\n",
    "except Exception as e:\n",
    "    print(e)\n",
    "        "
   ]
  },
  {
   "cell_type": "code",
   "execution_count": 27,
   "id": "3a103cf0",
   "metadata": {},
   "outputs": [
    {
     "ename": "NameError",
     "evalue": "name 'love_result' is not defined",
     "output_type": "error",
     "traceback": [
      "\u001b[1;31m---------------------------------------------------------------------------\u001b[0m",
      "\u001b[1;31mNameError\u001b[0m                                 Traceback (most recent call last)",
      "\u001b[1;32m~\\AppData\\Local\\Temp\\ipykernel_14124\\2729842269.py\u001b[0m in \u001b[0;36m<module>\u001b[1;34m\u001b[0m\n\u001b[1;32m----> 1\u001b[1;33m \u001b[0mlove_result\u001b[0m\u001b[1;33m\u001b[0m\u001b[1;33m\u001b[0m\u001b[0m\n\u001b[0m",
      "\u001b[1;31mNameError\u001b[0m: name 'love_result' is not defined"
     ]
    }
   ],
   "source": [
    "love_result"
   ]
  },
  {
   "cell_type": "code",
   "execution_count": 30,
   "id": "c846791d",
   "metadata": {},
   "outputs": [
    {
     "ename": "SyntaxError",
     "evalue": "invalid syntax (366161317.py, line 3)",
     "output_type": "error",
     "traceback": [
      "\u001b[1;36m  File \u001b[1;32m\"C:\\Users\\margh\\AppData\\Local\\Temp\\ipykernel_14124\\366161317.py\"\u001b[1;36m, line \u001b[1;32m3\u001b[0m\n\u001b[1;33m    url: 'https://dark-sky.p.rapidapi.com/%7Blatitude%7D,%7Blongitude%7D',\u001b[0m\n\u001b[1;37m                                                                         ^\u001b[0m\n\u001b[1;31mSyntaxError\u001b[0m\u001b[1;31m:\u001b[0m invalid syntax\n"
     ]
    }
   ],
   "source": [
    "import json\n",
    "import requests\n",
    "url: 'https://dark-sky.p.rapidapi.com/%7Blatitude%7D,%7Blongitude%7D',\n",
    "\n",
    "headers: {\n",
    "    'X-RapidAPI-Key': 'ae7fcf262emshc009e7fab12649ap148aabjsndf480cb51087',\n",
    "    'X-RapidAPI-Host': 'dark-sky.p.rapidapi.com'\n",
    "  }"
   ]
  }
 ],
 "metadata": {
  "kernelspec": {
   "display_name": "Python 3 (ipykernel)",
   "language": "python",
   "name": "python3"
  },
  "language_info": {
   "codemirror_mode": {
    "name": "ipython",
    "version": 3
   },
   "file_extension": ".py",
   "mimetype": "text/x-python",
   "name": "python",
   "nbconvert_exporter": "python",
   "pygments_lexer": "ipython3",
   "version": "3.9.13"
  }
 },
 "nbformat": 4,
 "nbformat_minor": 5
}
